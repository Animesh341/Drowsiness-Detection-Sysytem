{
 "cells": [
  {
   "cell_type": "code",
   "execution_count": 1,
   "metadata": {},
   "outputs": [],
   "source": [
    "import tkinter as tk\n",
    "from tkinter import *\n",
    "import cv2\n",
    "import os\n",
    "from PIL import Image, ImageTk\n",
    "import numpy as np\n"
   ]
  },
  {
   "cell_type": "code",
   "execution_count": 2,
   "metadata": {},
   "outputs": [],
   "source": [
    "import uuid   # Unique identifier\n",
    "import os\n",
    "import time"
   ]
  },
  {
   "cell_type": "code",
   "execution_count": 3,
   "metadata": {},
   "outputs": [],
   "source": [
    "import torch\n",
    "from matplotlib import pyplot as plt\n",
    "import numpy as np\n",
    "import cv2"
   ]
  },
  {
   "cell_type": "code",
   "execution_count": 23,
   "metadata": {
    "scrolled": true
   },
   "outputs": [],
   "source": [
    "window = tk.Tk()\n",
    "window.title(\"Face recognition system\")\n",
    "\n",
    "# Load the background image\n",
    "bg_image = Image.open(\"C:/Users/hp/Downloads/Telegram Desktop/dd/new.jpg\")\n",
    "bg_image = bg_image.resize((770, 440), Image.ANTIALIAS)\n",
    "bg_image = ImageTk.PhotoImage(bg_image)\n",
    "\n",
    "# Create a canvas widget and display the background image\n",
    "canvas = tk.Canvas(window, width=770, height=440)\n",
    "canvas.create_image(0, 0, image=bg_image, anchor=\"nw\")\n",
    "canvas.pack()\n",
    "\n",
    "canvas.create_text(385, 100, text=\"DROWSINESS DETECTION SYSTEM\", font=(\"Algerian\", 24), fill=\"white\")\n",
    "\n",
    "additional_image = Image.open(\"C:/Users/hp/Downloads/Telegram Desktop/dd/download (1).jpg\")\n",
    "additional_image = additional_image.resize((150, 150), Image.ANTIALIAS)\n",
    "additional_image = ImageTk.PhotoImage(additional_image)\n",
    "\n",
    "additional_image_x = 300  # Same x-coordinate as the text\n",
    "additional_image_y = 150  # Y-coordinate below the text\n",
    "\n",
    "canvas.create_image(additional_image_x, additional_image_y, image=additional_image, anchor=\"nw\")\n",
    "\n",
    "\n",
    "def train_classifier():\n",
    "    !cd yolov5 && python train.py --img 320 --batch 16 --epochs 300 --data dataset.yml --weights yolov5s.pt --workers 2\n",
    "\n",
    "b1 = tk.Button(window, text=\"Training\", font=(\"Algerian\",20), bg=\"light blue\", fg=\"black\", command=train_classifier)\n",
    "b1.pack(side=tk.LEFT, padx=10, pady=10)\n",
    "\n",
    "def detect_face():\n",
    "    model = torch.hub.load('ultralytics/yolov5', 'custom', path='yolov5/runs/train/exp10/weights/last.pt', force_reload=True)\n",
    "    cap = cv2.VideoCapture(0)\n",
    "    while cap.isOpened():\n",
    "        ret, frame = cap.read()\n",
    "    \n",
    "        # Make detections \n",
    "        results = model(frame)\n",
    "    \n",
    "        cv2.imshow('YOLO', np.squeeze(results.render()))\n",
    "    \n",
    "        if cv2.waitKey(10) & 0xFF == ord('q'):\n",
    "            break\n",
    "    cap.release()\n",
    "    cv2.destroyAllWindows()\n",
    "\n",
    "b2 = tk.Button(window, text=\"Detect the faces\", font=(\"Algerian\",20), bg=\"dark blue\", fg=\"black\", command=detect_face)\n",
    "b2.pack(side=tk.LEFT, padx=10, pady=10)\n",
    "\n",
    "def generate_dataset():\n",
    "    IMAGES_PATH = os.path.join('data', 'images') #/data/images\n",
    "    labels = ['awake', 'drowsy']\n",
    "    number_imgs = 20\n",
    "\n",
    "    cap = cv2.VideoCapture(0)\n",
    "    # Loop through labels\n",
    "    for label in labels:\n",
    "        print('Collecting images for {}'.format(label))\n",
    "        time.sleep(5)\n",
    "\n",
    "        # Loop through image range\n",
    "        for img_num in range(number_imgs):\n",
    "            print('Collecting images for {}, image number {}'.format(label, img_num))\n",
    "\n",
    "            # Webcam feed\n",
    "            ret, frame = cap.read()\n",
    "\n",
    "            # Naming out image path\n",
    "            imgname = os.path.join(IMAGES_PATH, label+'.'+str(uuid.uuid1())+'.jpg')\n",
    "\n",
    "            # Writes out image to file \n",
    "            cv2.imwrite(imgname, frame)\n",
    "\n",
    "            # Render to the screen\n",
    "            cv2.imshow('Image Collection', frame)\n",
    "\n",
    "            # 2 second delay between captures\n",
    "            time.sleep(2)\n",
    "\n",
    "            if cv2.waitKey(10) & 0xFF == ord('q'):\n",
    "                break\n",
    "    cap.release()\n",
    "    cv2.destroyAllWindows() \n",
    "\n",
    "b3 = tk.Button(window, text=\"Generate dataset\", font=(\"Algerian\",20), bg=\"maroon\", fg=\"black\", command=generate_dataset)\n",
    "b3.pack(side=tk.LEFT, padx=10, pady=10)\n",
    "\n",
    "window.mainloop()\n"
   ]
  },
  {
   "cell_type": "code",
   "execution_count": 21,
   "metadata": {
    "scrolled": false
   },
   "outputs": [],
   "source": []
  },
  {
   "cell_type": "code",
   "execution_count": 4,
   "metadata": {},
   "outputs": [],
   "source": []
  },
  {
   "cell_type": "code",
   "execution_count": 69,
   "metadata": {},
   "outputs": [
    {
     "ename": "TclError",
     "evalue": "image \"pyimage63\" doesn't exist",
     "output_type": "error",
     "traceback": [
      "\u001b[1;31m---------------------------------------------------------------------------\u001b[0m",
      "\u001b[1;31mTclError\u001b[0m                                  Traceback (most recent call last)",
      "\u001b[1;32m<ipython-input-69-341ca7dcfb94>\u001b[0m in \u001b[0;36m<module>\u001b[1;34m\u001b[0m\n\u001b[0;32m     18\u001b[0m \u001b[1;31m# Create a canvas widget and display the background image\u001b[0m\u001b[1;33m\u001b[0m\u001b[1;33m\u001b[0m\u001b[1;33m\u001b[0m\u001b[0m\n\u001b[0;32m     19\u001b[0m \u001b[0mcanvas\u001b[0m \u001b[1;33m=\u001b[0m \u001b[0mtk\u001b[0m\u001b[1;33m.\u001b[0m\u001b[0mCanvas\u001b[0m\u001b[1;33m(\u001b[0m\u001b[0mwindow\u001b[0m\u001b[1;33m,\u001b[0m \u001b[0mwidth\u001b[0m\u001b[1;33m=\u001b[0m\u001b[1;36m770\u001b[0m\u001b[1;33m,\u001b[0m \u001b[0mheight\u001b[0m\u001b[1;33m=\u001b[0m\u001b[1;36m440\u001b[0m\u001b[1;33m)\u001b[0m\u001b[1;33m\u001b[0m\u001b[1;33m\u001b[0m\u001b[0m\n\u001b[1;32m---> 20\u001b[1;33m \u001b[0mcanvas\u001b[0m\u001b[1;33m.\u001b[0m\u001b[0mcreate_image\u001b[0m\u001b[1;33m(\u001b[0m\u001b[1;36m0\u001b[0m\u001b[1;33m,\u001b[0m \u001b[1;36m0\u001b[0m\u001b[1;33m,\u001b[0m \u001b[0mimage\u001b[0m\u001b[1;33m=\u001b[0m\u001b[0mbg_image\u001b[0m\u001b[1;33m,\u001b[0m \u001b[0manchor\u001b[0m\u001b[1;33m=\u001b[0m\u001b[1;34m\"nw\"\u001b[0m\u001b[1;33m)\u001b[0m\u001b[1;33m\u001b[0m\u001b[1;33m\u001b[0m\u001b[0m\n\u001b[0m\u001b[0;32m     21\u001b[0m \u001b[0mcanvas\u001b[0m\u001b[1;33m.\u001b[0m\u001b[0mpack\u001b[0m\u001b[1;33m(\u001b[0m\u001b[1;33m)\u001b[0m\u001b[1;33m\u001b[0m\u001b[1;33m\u001b[0m\u001b[0m\n\u001b[0;32m     22\u001b[0m \u001b[1;33m\u001b[0m\u001b[0m\n",
      "\u001b[1;32m~\\anaconda3\\lib\\tkinter\\__init__.py\u001b[0m in \u001b[0;36mcreate_image\u001b[1;34m(self, *args, **kw)\u001b[0m\n\u001b[0;32m   2783\u001b[0m     \u001b[1;32mdef\u001b[0m \u001b[0mcreate_image\u001b[0m\u001b[1;33m(\u001b[0m\u001b[0mself\u001b[0m\u001b[1;33m,\u001b[0m \u001b[1;33m*\u001b[0m\u001b[0margs\u001b[0m\u001b[1;33m,\u001b[0m \u001b[1;33m**\u001b[0m\u001b[0mkw\u001b[0m\u001b[1;33m)\u001b[0m\u001b[1;33m:\u001b[0m\u001b[1;33m\u001b[0m\u001b[1;33m\u001b[0m\u001b[0m\n\u001b[0;32m   2784\u001b[0m         \u001b[1;34m\"\"\"Create image item with coordinates x1,y1.\"\"\"\u001b[0m\u001b[1;33m\u001b[0m\u001b[1;33m\u001b[0m\u001b[0m\n\u001b[1;32m-> 2785\u001b[1;33m         \u001b[1;32mreturn\u001b[0m \u001b[0mself\u001b[0m\u001b[1;33m.\u001b[0m\u001b[0m_create\u001b[0m\u001b[1;33m(\u001b[0m\u001b[1;34m'image'\u001b[0m\u001b[1;33m,\u001b[0m \u001b[0margs\u001b[0m\u001b[1;33m,\u001b[0m \u001b[0mkw\u001b[0m\u001b[1;33m)\u001b[0m\u001b[1;33m\u001b[0m\u001b[1;33m\u001b[0m\u001b[0m\n\u001b[0m\u001b[0;32m   2786\u001b[0m \u001b[1;33m\u001b[0m\u001b[0m\n\u001b[0;32m   2787\u001b[0m     \u001b[1;32mdef\u001b[0m \u001b[0mcreate_line\u001b[0m\u001b[1;33m(\u001b[0m\u001b[0mself\u001b[0m\u001b[1;33m,\u001b[0m \u001b[1;33m*\u001b[0m\u001b[0margs\u001b[0m\u001b[1;33m,\u001b[0m \u001b[1;33m**\u001b[0m\u001b[0mkw\u001b[0m\u001b[1;33m)\u001b[0m\u001b[1;33m:\u001b[0m\u001b[1;33m\u001b[0m\u001b[1;33m\u001b[0m\u001b[0m\n",
      "\u001b[1;32m~\\anaconda3\\lib\\tkinter\\__init__.py\u001b[0m in \u001b[0;36m_create\u001b[1;34m(self, itemType, args, kw)\u001b[0m\n\u001b[0;32m   2769\u001b[0m         \u001b[1;32melse\u001b[0m\u001b[1;33m:\u001b[0m\u001b[1;33m\u001b[0m\u001b[1;33m\u001b[0m\u001b[0m\n\u001b[0;32m   2770\u001b[0m             \u001b[0mcnf\u001b[0m \u001b[1;33m=\u001b[0m \u001b[1;33m{\u001b[0m\u001b[1;33m}\u001b[0m\u001b[1;33m\u001b[0m\u001b[1;33m\u001b[0m\u001b[0m\n\u001b[1;32m-> 2771\u001b[1;33m         return self.tk.getint(self.tk.call(\n\u001b[0m\u001b[0;32m   2772\u001b[0m             \u001b[0mself\u001b[0m\u001b[1;33m.\u001b[0m\u001b[0m_w\u001b[0m\u001b[1;33m,\u001b[0m \u001b[1;34m'create'\u001b[0m\u001b[1;33m,\u001b[0m \u001b[0mitemType\u001b[0m\u001b[1;33m,\u001b[0m\u001b[1;33m\u001b[0m\u001b[1;33m\u001b[0m\u001b[0m\n\u001b[0;32m   2773\u001b[0m             *(args + self._options(cnf, kw))))\n",
      "\u001b[1;31mTclError\u001b[0m: image \"pyimage63\" doesn't exist"
     ]
    }
   ],
   "source": []
  },
  {
   "cell_type": "code",
   "execution_count": null,
   "metadata": {},
   "outputs": [],
   "source": []
  },
  {
   "cell_type": "code",
   "execution_count": null,
   "metadata": {},
   "outputs": [],
   "source": []
  },
  {
   "cell_type": "code",
   "execution_count": null,
   "metadata": {},
   "outputs": [],
   "source": []
  }
 ],
 "metadata": {
  "kernelspec": {
   "display_name": "Python 3",
   "language": "python",
   "name": "python3"
  },
  "language_info": {
   "codemirror_mode": {
    "name": "ipython",
    "version": 3
   },
   "file_extension": ".py",
   "mimetype": "text/x-python",
   "name": "python",
   "nbconvert_exporter": "python",
   "pygments_lexer": "ipython3",
   "version": "3.8.3"
  }
 },
 "nbformat": 4,
 "nbformat_minor": 4
}
